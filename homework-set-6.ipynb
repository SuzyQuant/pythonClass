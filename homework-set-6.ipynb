{
 "cells": [
  {
   "cell_type": "markdown",
   "metadata": {},
   "source": [
    "# Homework set 6, due October 14, 2020"
   ]
  },
  {
   "cell_type": "markdown",
   "metadata": {},
   "source": [
    "## 1. Roots of a Polynomial (10pts)\n",
    "Consider the sixth-order polynomial\n",
    "\n",
    "$$ P(x) = 924x^6 - 2772x^5 + 3150x^4 - 1680x^3 + 420x^2 - 42x + 1 ~~.$$\n",
    "\n",
    "a) Make a plot of $P(x)$ from $x = 0$ to $x = 1$ and find approximate values for the six real-valued roots of the polynomial - the points at which $P(x)$ is zero. \n",
    "\n",
    "b) Write a Python program to find all six roots to at least ten decimal places of accuracy, using Newton's method (Do **not** use Python library functions)."
   ]
  },
  {
   "cell_type": "code",
   "execution_count": 6,
   "metadata": {
    "scrolled": true
   },
   "outputs": [
    {
     "data": {
      "image/png": "[encoded data removed]",
      "text/plain": [
       "<Figure size 432x288 with 1 Axes>"
      ]
     },
     "metadata": {
      "needs_background": "light"
     },
     "output_type": "display_data"
    },
    {
     "name": "stdout",
     "output_type": "stream",
     "text": [
      "[0.96623476 0.83060469 0.61930959 0.38069041 0.16939531 0.03376524]\n"
     ]
    }
   ],
   "source": [
    "import matplotlib.pyplot as plt\n",
    "import numpy as np\n",
    "import math\n",
    "\n",
    "x=np.arange(0,1,0.01)\n",
    "y=924*x**6-2772*x**5+3150*x**4-1680*x**3+420*x**2-42*x+1 # function\n",
    "\n",
    "plt.plot(x,y)\n",
    "plt.show() # displaying the plot\n",
    "coeff = [924, -2772, 3150, -1680, 420, -42, 1]\n",
    "print(np.roots(coeff))"
   ]
  },
  {
   "cell_type": "markdown",
   "metadata": {},
   "source": [
    "## 2. Nearly double roots (10pts)\n",
    "Netwon's method is designed to find real-valued single roots of a function $f(x)$. Double roots can be found by finding roots of the derivative $f^\\prime(x)$. Consider the polynomial\n",
    "\n",
    "$$ P(x) = 3x^4 + 8x^3 -6x^2 -25x + 19 = 0~~.$$\n",
    "\n",
    "This polynomial has two real-valued roots $x_{1,2}$ *nearby* at around $x=1$.\n",
    "\n",
    "a) Plot $P(x)$ around $x=1$ to inspect where the roots are.\n",
    "\n",
    "b) To find those two nearby roots with Newton's method, we have to find suitable starting points for both roots near those roots. Since the function $P(x)$ must have an extremum $x_e$ between $x_1$ and $x_2$ the idea is to use Taylor expansions of $P(x)$ at $x_e$ to find first estimates for the roots $x_1$ and $x_2$ and use these estimates as starting points for the Newton's method to find the roots more precisely. Show that these estimates are \n",
    "\n",
    "$$ x_{1,2}^{(0)} = x_e \\pm \\sqrt{-2f(x_e) \\over f^{\\prime\\prime}(x_e)} $$\n",
    "\n",
    "c) Use Newton's method to first find $x_e$ and then use Newton's method to find the roots $x_{1,2}$ with an error less than $10^{-5}$. "
   ]
  },
  {
   "cell_type": "markdown",
   "metadata": {},
   "source": [
    "## 3. Lagrange Point (10pts)\n",
    "\n",
    "There is a point between the Earth and the Moon, called the $L_1$ Lagrange point, at which a satellite will orbit Earth in perfect synchrony with the Moon, staying always in between the two. This works because the inward pull of the earth and the outward oull of the Moon combine to create exactly the needed centripetal force that keeps the satellite in its orbit. Below is the setup\n",
    "\n",
    "<img src=\"setup.jpg\" alt=\"setup\" style=\"width:604px;height:228px;\">  \n",
    "\n",
    "a) Assuming circular orbits, and assuming that the Earth is much more massive than either the moon or the satellite, show that the distance $r$ from the center of the earth to the $L_1$ point satisfies the equation below, where $R$ is the distance from the Earth to the Moon, $M$ and $m$ are the Earth and Moon masses, $G$ is Newton's gravitational constant, and $\\omega$ is the angular velocity of both the Moon and the satellite.\n",
    "\n",
    "$$ {GM \\over r^2} - {Gm \\over \\left (R - r \\right )^2} = \\omega^2 r $$\n",
    "\n",
    "\n",
    "b) The equation above is a fifth order polynomial equation in $r$. Write a program that uses either Newton's method or the secant method to solve for the distance $r$ from the Earth to the $L_1$ point. Compute a solution accurate to at least foure significant digits. The values of the parameters are\n",
    "\n",
    "|Symbol|Value|Units|\n",
    "|:-:|:-:|:-: |\n",
    "| $G$  | $6.674\\cdot 10^{-11}$ | $m^3kg^{-1}s^{-2}$ | \n",
    "| $M$  | $5.974\\cdot 10^{24}$  | $kg$ | \n",
    "| $m$  | $7.348\\cdot 10^{22}$  | $kg$ | \n",
    "| $R$  | $3.844\\cdot 10^8$  | $m$ | \n",
    "| $\\omega$ | $2.662\\cdot 10^{-6}$ | $s^{-1}$ |"
   ]
  },
  {
   "cell_type": "code",
   "execution_count": 11,
   "metadata": {},
   "outputs": [
    {
     "name": "stdout",
     "output_type": "stream",
     "text": [
      "[5310303.9582656+0.j]\n"
     ]
    }
   ],
   "source": [
    "from numpy import *\n",
    "from matplotlib.pyplot import *\n",
    "\n",
    "G=6.674*10**(-11)\n",
    "M=5.974*10**(24)\n",
    "m=7.348*10**(22)\n",
    "R=3.844*10**8\n",
    "w=2.662*10**(-6)\n",
    "\n",
    "coeff=[1.,-2.*R, R**2, 0., 2*G*M*R/w, -G*M/w*R**2]\n",
    "\n",
    "L1=np.roots(coeff)\n",
    "L1=L1[~iscomplex(L1)]\n",
    "print(L1)"
   ]
  },
  {
   "cell_type": "code",
   "execution_count": null,
   "metadata": {},
   "outputs": [],
   "source": []
  }
 ],
 "metadata": {
  "kernelspec": {
   "display_name": "Python 3",
   "language": "python",
   "name": "python3"
  },
  "language_info": {
   "codemirror_mode": {
    "name": "ipython",
    "version": 3
   },
   "file_extension": ".py",
   "mimetype": "text/x-python",
   "name": "python",
   "nbconvert_exporter": "python",
   "pygments_lexer": "ipython3",
   "version": "3.8.3"
  },
  "toc": {
   "base_numbering": 1,
   "nav_menu": {},
   "number_sections": false,
   "sideBar": true,
   "skip_h1_title": false,
   "title_cell": "Table of Contents",
   "title_sidebar": "Contents",
   "toc_cell": false,
   "toc_position": {},
   "toc_section_display": true,
   "toc_window_display": false
  }
 },
 "nbformat": 4,
 "nbformat_minor": 2
}
